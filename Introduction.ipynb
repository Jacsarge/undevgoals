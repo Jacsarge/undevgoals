{
 "cells": [
  {
   "cell_type": "markdown",
   "metadata": {
    "scrolled": true
   },
   "source": [
    "## Welcome to the UN Dev Goals Project!"
   ]
  },
  {
   "cell_type": "markdown",
   "metadata": {},
   "source": [
    "If you've reached this point, you have jupyter up and running on your device which is great!\n",
    "Pat yourself on the back!"
   ]
  },
  {
   "cell_type": "markdown",
   "metadata": {},
   "source": [
    "Now you might be asking yourself,"
   ]
  },
  {
   "cell_type": "markdown",
   "metadata": {},
   "source": [
    "## What's the point of this project?\n",
    "### From the project website:"
   ]
  },
  {
   "cell_type": "markdown",
   "metadata": {},
   "source": [
    "The UN measures progress towards these goals using indicators such as percent of the population making over one dollar per day. Your task is to predict the change in these indicators one year and five years into the future. Predicting future progress will help us to understand how we achieve these goals by uncovering complex relations between these goals and other economic indicators. The UN set 2015 as the target for measurable progress. Given the data from 1972 - 2007, you need to predict a specific indicator for each of these goals in 2008 and 2012."
   ]
  },
  {
   "cell_type": "markdown",
   "metadata": {},
   "source": [
    "## Notes on the Data:\n",
    "\n",
    "\n",
    "* Time Series Data\n",
    "* Uneven distribution of data e.g. only one row for 'combating malaria'\n",
    "* Lots of missing values\n",
    "* Size of original data: 195402\n",
    "* Size of data to be predicted on: 737\n",
    "\n",
    "### TrainingSet.csv and SubmissionRows.csv"
   ]
  },
  {
   "cell_type": "markdown",
   "metadata": {},
   "source": [
    "### Training Set"
   ]
  },
  {
   "cell_type": "markdown",
   "metadata": {},
   "source": [
    "This is all of the data that the competition provides. We will use this to predict the values in submission rows for the years 2008 and 2012. "
   ]
  },
  {
   "cell_type": "markdown",
   "metadata": {},
   "source": [
    "### Submission Rows"
   ]
  },
  {
   "cell_type": "markdown",
   "metadata": {},
   "source": [
    "These are the individual rows from Training Set that we need to predict for the competition. It is broken up by year. These rows are given as the competition believes they provide enough data for us to predict accurately for 2008 and 2012."
   ]
  },
  {
   "cell_type": "markdown",
   "metadata": {},
   "source": [
    "## Files\n",
    "\n",
    "\n",
    "* dataset.py\n",
    "    * This preprocesses the data given so that we can use it to make predictions. Move all preprocessing code to the dataset class when you can.\n",
    "* evaluation.py\n",
    "    * This calculates the Root Mean Squared Error (RMSE) for pd.Series passed into it.\n",
    "* models.py\n",
    "    * This file currently holds the status_quo and arima models we are using to make our predictions.\n",
    "    * status_quo\n",
    "        * The status_quo model assumes that everything continues as it had the last year and translates that value over into our prediction.\n",
    "    * arima\n",
    "        * ARIMA stands for Autoregressive Integrated Moving Average. This model is fitted to time series data and is one of the models we will use to make our predictions. If the ARIMA prediction is worse than the status_quo prediction then it uses that instead\n",
    "* requirements.txt\n",
    "    * This text document will be used to install the required modules to your virtualenv for this project\n",
    "* train.py\n",
    "    * This file trains our current models on a set of preprocessed data\n",
    "* visualize.py\n",
    "    * This file visualizes all series for a particular index"
   ]
  },
  {
   "cell_type": "code",
   "execution_count": null,
   "metadata": {},
   "outputs": [],
   "source": []
  }
 ],
 "metadata": {
  "kernelspec": {
   "display_name": "Python 3",
   "language": "python",
   "name": "python3"
  },
  "language_info": {
   "codemirror_mode": {
    "name": "ipython",
    "version": 3
   },
   "file_extension": ".py",
   "mimetype": "text/x-python",
   "name": "python",
   "nbconvert_exporter": "python",
   "pygments_lexer": "ipython3",
   "version": "3.6.5"
  }
 },
 "nbformat": 4,
 "nbformat_minor": 2
}
